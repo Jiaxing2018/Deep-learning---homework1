{
 "cells": [
  {
   "cell_type": "code",
   "execution_count": 17,
   "metadata": {},
   "outputs": [
    {
     "name": "stdout",
     "output_type": "stream",
     "text": [
      "0.6161200946544948\n",
      "[6.3242173 2.3119516 1.6173074 ... 7.9008226 5.5023675 5.7617655]\n",
      "0.6242359914970583\n"
     ]
    }
   ],
   "source": [
    "from sklearn import linear_model\n",
    "import tensorflow as tf\n",
    "\n",
    "path = '/Users/jiaxingchen/CoursesWorkshops/PSU/2020Spring/deep_learning/homework1/mnist.npz'\n",
    "(train_images, train_labels), (test_images, test_labels) = tf.keras.datasets.mnist.load_data(path)\n",
    "train_images = train_images.reshape((60000, 28 * 28))\n",
    "train_images = train_images.astype('float32') / 255\n",
    "test_images = test_images.reshape((10000, 28 * 28))\n",
    "test_images = test_images.astype('float32') / 255\n",
    "\n",
    "LR = linear_model.LinearRegression()\n",
    "model = LR.fit(train_images, train_labels)\n",
    "print(model.score(train_images, train_labels))\n",
    "#print(model.coef_)\n",
    "#print(model.intercept_)\n",
    "\n",
    "print(model.predict(test_images))\n",
    "print(model.score(test_images, test_labels))\n",
    "\n"
   ]
  },
  {
   "cell_type": "code",
   "execution_count": 18,
   "metadata": {},
   "outputs": [
    {
     "name": "stdout",
     "output_type": "stream",
     "text": [
      "[7 2 1 ... 4 5 6]\n",
      "0.8771\n"
     ]
    }
   ],
   "source": [
    "import tensorflow as tf\n",
    "from sklearn import tree\n",
    "\n",
    "path = '/Users/jiaxingchen/CoursesWorkshops/PSU/2020Spring/deep_learning/homework1/mnist.npz'\n",
    "(train_images, train_labels), (test_images, test_labels) = tf.keras.datasets.mnist.load_data(path)\n",
    "train_images = train_images.reshape((60000, 28 * 28))\n",
    "train_images = train_images.astype('float32') / 255\n",
    "test_images = test_images.reshape((10000, 28 * 28))\n",
    "test_images = test_images.astype('float32') / 255\n",
    "\n",
    "DT = tree.DecisionTreeClassifier()\n",
    "model = DT.fit(train_images, train_labels)\n",
    "\n",
    "print(model.predict(test_images))\n",
    "print(model.score(test_images, test_labels))\n",
    "\n"
   ]
  },
  {
   "cell_type": "code",
   "execution_count": 28,
   "metadata": {},
   "outputs": [
    {
     "name": "stdout",
     "output_type": "stream",
     "text": [
      "[7 2 1 ... 4 5 6]\n",
      "0.9792\n"
     ]
    }
   ],
   "source": [
    "import tensorflow as tf\n",
    "from sklearn.svm import SVC\n",
    "\n",
    "path = '/Users/jiaxingchen/CoursesWorkshops/PSU/2020Spring/deep_learning/homework1/mnist.npz'\n",
    "(train_images, train_labels), (test_images, test_labels) = tf.keras.datasets.mnist.load_data(path)\n",
    "train_images = train_images.reshape((60000, 28 * 28))\n",
    "train_images = train_images.astype('float32') / 255\n",
    "test_images = test_images.reshape((10000, 28 * 28))\n",
    "test_images = test_images.astype('float32') / 255\n",
    "\n",
    "model = SVC(kernel='rbf')\n",
    "model.fit(train_images, train_labels)\n",
    "\n",
    "print(model.predict(test_images))\n",
    "print(model.score(test_images, test_labels))\n",
    "\n"
   ]
  },
  {
   "cell_type": "code",
   "execution_count": null,
   "metadata": {},
   "outputs": [],
   "source": []
  }
 ],
 "metadata": {
  "kernelspec": {
   "display_name": "Python 3",
   "language": "python",
   "name": "python3"
  },
  "language_info": {
   "codemirror_mode": {
    "name": "ipython",
    "version": 3
   },
   "file_extension": ".py",
   "mimetype": "text/x-python",
   "name": "python",
   "nbconvert_exporter": "python",
   "pygments_lexer": "ipython3",
   "version": "3.6.7"
  }
 },
 "nbformat": 4,
 "nbformat_minor": 4
}
